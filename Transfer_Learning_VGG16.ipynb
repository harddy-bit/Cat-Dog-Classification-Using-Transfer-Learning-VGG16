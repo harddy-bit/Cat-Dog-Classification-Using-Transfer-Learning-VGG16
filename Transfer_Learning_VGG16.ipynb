{
  "nbformat": 4,
  "nbformat_minor": 0,
  "metadata": {
    "kernelspec": {
      "display_name": "Python 3",
      "language": "python",
      "name": "python3"
    },
    "language_info": {
      "codemirror_mode": {
        "name": "ipython",
        "version": 3
      },
      "file_extension": ".py",
      "mimetype": "text/x-python",
      "name": "python",
      "nbconvert_exporter": "python",
      "pygments_lexer": "ipython3",
      "version": "3.7.7"
    },
    "colab": {
      "name": "Transfer Learning VGG16.ipynb",
      "provenance": [],
      "toc_visible": true,
      "include_colab_link": true
    },
    "accelerator": "GPU"
  },
  "cells": [
    {
      "cell_type": "markdown",
      "metadata": {
        "id": "view-in-github",
        "colab_type": "text"
      },
      "source": [
        "<a href=\"https://colab.research.google.com/github/harddy-bit/Cat-Dog-Classification-Using-Transfer-Learning-VGG16/blob/main/Transfer_Learning_VGG16.ipynb\" target=\"_parent\"><img src=\"https://colab.research.google.com/assets/colab-badge.svg\" alt=\"Open In Colab\"/></a>"
      ]
    },
    {
      "cell_type": "markdown",
      "metadata": {
        "id": "RLGK1_wzEx9Z"
      },
      "source": [
        "## Transfer Learning VGG 16 using Keras"
      ]
    },
    {
      "cell_type": "markdown",
      "metadata": {
        "id": "xMGKgYaiEx9t"
      },
      "source": [
        "Please download the dataset from the below url"
      ]
    },
    {
      "cell_type": "code",
      "metadata": {
        "colab": {
          "base_uri": "https://localhost:8080/"
        },
        "id": "l6QVtQGyoQoH",
        "outputId": "010dec36-d3f3-44ac-a16f-b51ec0057f31"
      },
      "source": [
        "from google.colab import drive\r\n",
        "drive.mount('/content/gdrive')"
      ],
      "execution_count": 1,
      "outputs": [
        {
          "output_type": "stream",
          "text": [
            "Mounted at /content/gdrive\n"
          ],
          "name": "stdout"
        }
      ]
    },
    {
      "cell_type": "code",
      "metadata": {
        "colab": {
          "base_uri": "https://localhost:8080/"
        },
        "id": "3drKstOcEx9u",
        "outputId": "52aef9d5-28ac-4cb7-8179-73e5a050de37"
      },
      "source": [
        "import tensorflow as tf \n",
        "\n",
        "if tf.test.gpu_device_name(): \n",
        "    \n",
        "\n",
        "    print('Default GPU Device:{}'.format(tf.test.gpu_device_name()))\n",
        "\n",
        "else:\n",
        "\n",
        "    print(\"Please install GPU version of TF\")"
      ],
      "execution_count": 2,
      "outputs": [
        {
          "output_type": "stream",
          "text": [
            "Default GPU Device:/device:GPU:0\n"
          ],
          "name": "stdout"
        }
      ]
    },
    {
      "cell_type": "code",
      "metadata": {
        "colab": {
          "base_uri": "https://localhost:8080/",
          "height": 35
        },
        "id": "gs5PKg9HEx9x",
        "outputId": "e601e351-3cc3-4bdd-c19a-aa5acf783fda"
      },
      "source": [
        "tf.test.gpu_device_name()"
      ],
      "execution_count": 3,
      "outputs": [
        {
          "output_type": "execute_result",
          "data": {
            "application/vnd.google.colaboratory.intrinsic+json": {
              "type": "string"
            },
            "text/plain": [
              "'/device:GPU:0'"
            ]
          },
          "metadata": {
            "tags": []
          },
          "execution_count": 3
        }
      ]
    },
    {
      "cell_type": "code",
      "metadata": {
        "colab": {
          "base_uri": "https://localhost:8080/"
        },
        "id": "84zhhlfxSESl",
        "outputId": "137642e5-0cc2-4d3f-a19c-2128be636c23"
      },
      "source": [
        "!nvidia-smi"
      ],
      "execution_count": 4,
      "outputs": [
        {
          "output_type": "stream",
          "text": [
            "Tue Feb  2 16:12:05 2021       \n",
            "+-----------------------------------------------------------------------------+\n",
            "| NVIDIA-SMI 460.32.03    Driver Version: 418.67       CUDA Version: 10.1     |\n",
            "|-------------------------------+----------------------+----------------------+\n",
            "| GPU  Name        Persistence-M| Bus-Id        Disp.A | Volatile Uncorr. ECC |\n",
            "| Fan  Temp  Perf  Pwr:Usage/Cap|         Memory-Usage | GPU-Util  Compute M. |\n",
            "|                               |                      |               MIG M. |\n",
            "|===============================+======================+======================|\n",
            "|   0  Tesla T4            Off  | 00000000:00:04.0 Off |                    0 |\n",
            "| N/A   53C    P0    28W /  70W |    227MiB / 15079MiB |      0%      Default |\n",
            "|                               |                      |                 ERR! |\n",
            "+-------------------------------+----------------------+----------------------+\n",
            "                                                                               \n",
            "+-----------------------------------------------------------------------------+\n",
            "| Processes:                                                                  |\n",
            "|  GPU   GI   CI        PID   Type   Process name                  GPU Memory |\n",
            "|        ID   ID                                                   Usage      |\n",
            "|=============================================================================|\n",
            "|  No running processes found                                                 |\n",
            "+-----------------------------------------------------------------------------+\n"
          ],
          "name": "stdout"
        }
      ]
    },
    {
      "cell_type": "code",
      "metadata": {
        "id": "-j_68pVzSJ11"
      },
      "source": [
        "from tensorflow.compat.v1 import ConfigProto\r\n",
        "from tensorflow.compat.v1 import InteractiveSession\r\n",
        "\r\n",
        "config = ConfigProto()\r\n",
        "config.gpu_options.per_process_gpu_memory_fraction = 0.5\r\n",
        "config.gpu_options.allow_growth = True\r\n",
        "session = InteractiveSession(config=config)"
      ],
      "execution_count": 5,
      "outputs": []
    },
    {
      "cell_type": "code",
      "metadata": {
        "colab": {
          "base_uri": "https://localhost:8080/",
          "height": 35
        },
        "id": "HJM20xrzTe03",
        "outputId": "80dd883c-6211-4227-ee61-02a87c03f52d"
      },
      "source": [
        "tf.__version__"
      ],
      "execution_count": 6,
      "outputs": [
        {
          "output_type": "execute_result",
          "data": {
            "application/vnd.google.colaboratory.intrinsic+json": {
              "type": "string"
            },
            "text/plain": [
              "'2.4.1'"
            ]
          },
          "metadata": {
            "tags": []
          },
          "execution_count": 6
        }
      ]
    },
    {
      "cell_type": "code",
      "metadata": {
        "id": "jgwBFzohEx9z"
      },
      "source": [
        "# import the libraries as shown below\n",
        "\n",
        "from tensorflow.keras.layers import Input, Lambda, Dense, Flatten\n",
        "from tensorflow.keras.models import Model\n",
        "from tensorflow.keras.applications.vgg16 import VGG16\n",
        "from tensorflow.keras.applications.vgg16 import preprocess_input\n",
        "from tensorflow.keras.preprocessing import image\n",
        "from tensorflow.keras.preprocessing.image import ImageDataGenerator,load_img\n",
        "from tensorflow.keras.models import Sequential\n",
        "import numpy as np\n",
        "from glob import glob\n"
      ],
      "execution_count": 7,
      "outputs": []
    },
    {
      "cell_type": "code",
      "metadata": {
        "id": "q-c65RInEx90"
      },
      "source": [
        "# re-size all the images to this\n",
        "IMAGE_SIZE = [224, 224]\n",
        "\n",
        "train_path = '/content/gdrive/MyDrive/kaggle_dataset/dogs-cats-dataset/dataset/training_set'\n",
        "valid_path = '/content/gdrive/MyDrive/kaggle_dataset/dogs-cats-dataset/dataset/test_set'\n"
      ],
      "execution_count": 8,
      "outputs": []
    },
    {
      "cell_type": "code",
      "metadata": {
        "id": "iZGpP7NzEx91",
        "colab": {
          "base_uri": "https://localhost:8080/"
        },
        "outputId": "3ff03ee3-91cd-4fff-ab70-34de6234fb2f"
      },
      "source": [
        "# Import the Vgg 16 library as shown below and add preprocessing layer to the front of VGG\n",
        "# Here we will be using imagenet weights\n",
        "\n",
        "vgg16 = VGG16(input_shape=IMAGE_SIZE + [3], weights='imagenet', include_top=False)\n"
      ],
      "execution_count": 9,
      "outputs": [
        {
          "output_type": "stream",
          "text": [
            "Downloading data from https://storage.googleapis.com/tensorflow/keras-applications/vgg16/vgg16_weights_tf_dim_ordering_tf_kernels_notop.h5\n",
            "58892288/58889256 [==============================] - 1s 0us/step\n"
          ],
          "name": "stdout"
        }
      ]
    },
    {
      "cell_type": "code",
      "metadata": {
        "colab": {
          "base_uri": "https://localhost:8080/"
        },
        "id": "HRkwGbilhN8l",
        "outputId": "39f8d219-1091-48ba-d48f-59d887a14c04"
      },
      "source": [
        "vgg16.summary()"
      ],
      "execution_count": 10,
      "outputs": [
        {
          "output_type": "stream",
          "text": [
            "Model: \"vgg16\"\n",
            "_________________________________________________________________\n",
            "Layer (type)                 Output Shape              Param #   \n",
            "=================================================================\n",
            "input_1 (InputLayer)         [(None, 224, 224, 3)]     0         \n",
            "_________________________________________________________________\n",
            "block1_conv1 (Conv2D)        (None, 224, 224, 64)      1792      \n",
            "_________________________________________________________________\n",
            "block1_conv2 (Conv2D)        (None, 224, 224, 64)      36928     \n",
            "_________________________________________________________________\n",
            "block1_pool (MaxPooling2D)   (None, 112, 112, 64)      0         \n",
            "_________________________________________________________________\n",
            "block2_conv1 (Conv2D)        (None, 112, 112, 128)     73856     \n",
            "_________________________________________________________________\n",
            "block2_conv2 (Conv2D)        (None, 112, 112, 128)     147584    \n",
            "_________________________________________________________________\n",
            "block2_pool (MaxPooling2D)   (None, 56, 56, 128)       0         \n",
            "_________________________________________________________________\n",
            "block3_conv1 (Conv2D)        (None, 56, 56, 256)       295168    \n",
            "_________________________________________________________________\n",
            "block3_conv2 (Conv2D)        (None, 56, 56, 256)       590080    \n",
            "_________________________________________________________________\n",
            "block3_conv3 (Conv2D)        (None, 56, 56, 256)       590080    \n",
            "_________________________________________________________________\n",
            "block3_pool (MaxPooling2D)   (None, 28, 28, 256)       0         \n",
            "_________________________________________________________________\n",
            "block4_conv1 (Conv2D)        (None, 28, 28, 512)       1180160   \n",
            "_________________________________________________________________\n",
            "block4_conv2 (Conv2D)        (None, 28, 28, 512)       2359808   \n",
            "_________________________________________________________________\n",
            "block4_conv3 (Conv2D)        (None, 28, 28, 512)       2359808   \n",
            "_________________________________________________________________\n",
            "block4_pool (MaxPooling2D)   (None, 14, 14, 512)       0         \n",
            "_________________________________________________________________\n",
            "block5_conv1 (Conv2D)        (None, 14, 14, 512)       2359808   \n",
            "_________________________________________________________________\n",
            "block5_conv2 (Conv2D)        (None, 14, 14, 512)       2359808   \n",
            "_________________________________________________________________\n",
            "block5_conv3 (Conv2D)        (None, 14, 14, 512)       2359808   \n",
            "_________________________________________________________________\n",
            "block5_pool (MaxPooling2D)   (None, 7, 7, 512)         0         \n",
            "=================================================================\n",
            "Total params: 14,714,688\n",
            "Trainable params: 14,714,688\n",
            "Non-trainable params: 0\n",
            "_________________________________________________________________\n"
          ],
          "name": "stdout"
        }
      ]
    },
    {
      "cell_type": "code",
      "metadata": {
        "id": "26iuIrLcEx91"
      },
      "source": [
        "# don't train existing weights\n",
        "for layer in vgg16.layers:\n",
        "    layer.trainable = False"
      ],
      "execution_count": 11,
      "outputs": []
    },
    {
      "cell_type": "code",
      "metadata": {
        "id": "IhC-Cj-1Ex92"
      },
      "source": [
        "  # useful for getting number of output classes\n",
        "folders = glob('/content/gdrive/MyDrive/kaggle_dataset/dogs-cats-dataset/dataset/training_set/*')"
      ],
      "execution_count": 12,
      "outputs": []
    },
    {
      "cell_type": "code",
      "metadata": {
        "colab": {
          "base_uri": "https://localhost:8080/"
        },
        "id": "dPT3usIsitzK",
        "outputId": "6f247977-1a78-45b1-8acf-d9dd23d8d025"
      },
      "source": [
        "folders\r\n",
        "# Two classes - Cats & Dogs"
      ],
      "execution_count": 13,
      "outputs": [
        {
          "output_type": "execute_result",
          "data": {
            "text/plain": [
              "['/content/gdrive/MyDrive/kaggle_dataset/dogs-cats-dataset/dataset/training_set/cats',\n",
              " '/content/gdrive/MyDrive/kaggle_dataset/dogs-cats-dataset/dataset/training_set/dogs']"
            ]
          },
          "metadata": {
            "tags": []
          },
          "execution_count": 13
        }
      ]
    },
    {
      "cell_type": "code",
      "metadata": {
        "id": "y5UH92znEx93"
      },
      "source": [
        "# our layers - you can add more if you want\n",
        "x = Flatten()(vgg16.output)"
      ],
      "execution_count": 14,
      "outputs": []
    },
    {
      "cell_type": "code",
      "metadata": {
        "id": "XMD3KbNXEx93"
      },
      "source": [
        "prediction = Dense(len(folders), activation='softmax')(x)\n",
        "\n",
        "# create a model object -- combine the input of vgg16 and output dense layer as prediction\n",
        "model = Model(inputs=vgg16.input, outputs=prediction)"
      ],
      "execution_count": 15,
      "outputs": []
    },
    {
      "cell_type": "code",
      "metadata": {
        "id": "yOPqqMMhEx94",
        "colab": {
          "base_uri": "https://localhost:8080/"
        },
        "outputId": "e926a3e5-6196-465e-cd02-eae2be83323e"
      },
      "source": [
        "# view the structure of the model\n",
        "model.summary()\n"
      ],
      "execution_count": 16,
      "outputs": [
        {
          "output_type": "stream",
          "text": [
            "Model: \"model\"\n",
            "_________________________________________________________________\n",
            "Layer (type)                 Output Shape              Param #   \n",
            "=================================================================\n",
            "input_1 (InputLayer)         [(None, 224, 224, 3)]     0         \n",
            "_________________________________________________________________\n",
            "block1_conv1 (Conv2D)        (None, 224, 224, 64)      1792      \n",
            "_________________________________________________________________\n",
            "block1_conv2 (Conv2D)        (None, 224, 224, 64)      36928     \n",
            "_________________________________________________________________\n",
            "block1_pool (MaxPooling2D)   (None, 112, 112, 64)      0         \n",
            "_________________________________________________________________\n",
            "block2_conv1 (Conv2D)        (None, 112, 112, 128)     73856     \n",
            "_________________________________________________________________\n",
            "block2_conv2 (Conv2D)        (None, 112, 112, 128)     147584    \n",
            "_________________________________________________________________\n",
            "block2_pool (MaxPooling2D)   (None, 56, 56, 128)       0         \n",
            "_________________________________________________________________\n",
            "block3_conv1 (Conv2D)        (None, 56, 56, 256)       295168    \n",
            "_________________________________________________________________\n",
            "block3_conv2 (Conv2D)        (None, 56, 56, 256)       590080    \n",
            "_________________________________________________________________\n",
            "block3_conv3 (Conv2D)        (None, 56, 56, 256)       590080    \n",
            "_________________________________________________________________\n",
            "block3_pool (MaxPooling2D)   (None, 28, 28, 256)       0         \n",
            "_________________________________________________________________\n",
            "block4_conv1 (Conv2D)        (None, 28, 28, 512)       1180160   \n",
            "_________________________________________________________________\n",
            "block4_conv2 (Conv2D)        (None, 28, 28, 512)       2359808   \n",
            "_________________________________________________________________\n",
            "block4_conv3 (Conv2D)        (None, 28, 28, 512)       2359808   \n",
            "_________________________________________________________________\n",
            "block4_pool (MaxPooling2D)   (None, 14, 14, 512)       0         \n",
            "_________________________________________________________________\n",
            "block5_conv1 (Conv2D)        (None, 14, 14, 512)       2359808   \n",
            "_________________________________________________________________\n",
            "block5_conv2 (Conv2D)        (None, 14, 14, 512)       2359808   \n",
            "_________________________________________________________________\n",
            "block5_conv3 (Conv2D)        (None, 14, 14, 512)       2359808   \n",
            "_________________________________________________________________\n",
            "block5_pool (MaxPooling2D)   (None, 7, 7, 512)         0         \n",
            "_________________________________________________________________\n",
            "flatten (Flatten)            (None, 25088)             0         \n",
            "_________________________________________________________________\n",
            "dense (Dense)                (None, 2)                 50178     \n",
            "=================================================================\n",
            "Total params: 14,764,866\n",
            "Trainable params: 50,178\n",
            "Non-trainable params: 14,714,688\n",
            "_________________________________________________________________\n"
          ],
          "name": "stdout"
        }
      ]
    },
    {
      "cell_type": "code",
      "metadata": {
        "id": "1JMJU0cIEx94"
      },
      "source": [
        "# tell the model what cost and optimization method to use\n",
        "model.compile(\n",
        "  loss='categorical_crossentropy',\n",
        "  optimizer='adam',\n",
        "  metrics=['accuracy']\n",
        ")"
      ],
      "execution_count": 17,
      "outputs": []
    },
    {
      "cell_type": "code",
      "metadata": {
        "id": "xIVIdnBZEx95"
      },
      "source": [
        "# Use the Image Data Generator to import the images from the dataset\n",
        "from tensorflow.keras.preprocessing.image import ImageDataGenerator\n",
        "\n",
        "train_datagen = ImageDataGenerator(rescale = 1./255,\n",
        "                                   shear_range = 0.2,\n",
        "                                   zoom_range = 0.2,\n",
        "                                   horizontal_flip = True)\n",
        "\n",
        "test_datagen = ImageDataGenerator(rescale = 1./255)"
      ],
      "execution_count": 18,
      "outputs": []
    },
    {
      "cell_type": "code",
      "metadata": {
        "id": "KfyHhsGDEx96",
        "colab": {
          "base_uri": "https://localhost:8080/"
        },
        "outputId": "61574c7e-87a0-4de7-9519-b6afa8f63303"
      },
      "source": [
        "# Make sure you provide the same target size as initialied for the image size\n",
        "training_set = train_datagen.flow_from_directory('/content/gdrive/MyDrive/kaggle_dataset/dogs-cats-dataset/dataset/training_set',\n",
        "                                                 target_size = (224, 224),\n",
        "                                                 batch_size = 32,\n",
        "                                                 class_mode = 'categorical')"
      ],
      "execution_count": 19,
      "outputs": [
        {
          "output_type": "stream",
          "text": [
            "Found 8000 images belonging to 2 classes.\n"
          ],
          "name": "stdout"
        }
      ]
    },
    {
      "cell_type": "code",
      "metadata": {
        "id": "dagxzB-sEx97",
        "colab": {
          "base_uri": "https://localhost:8080/"
        },
        "outputId": "ff6ac01a-3415-47db-b053-5beee40a71d1"
      },
      "source": [
        "test_set = test_datagen.flow_from_directory('/content/gdrive/MyDrive/kaggle_dataset/dogs-cats-dataset/dataset/test_set',\n",
        "                                            target_size = (224, 224),\n",
        "                                            batch_size = 32,\n",
        "                                            class_mode = 'categorical')"
      ],
      "execution_count": 20,
      "outputs": [
        {
          "output_type": "stream",
          "text": [
            "Found 2000 images belonging to 2 classes.\n"
          ],
          "name": "stdout"
        }
      ]
    },
    {
      "cell_type": "code",
      "metadata": {
        "id": "fhMAnrjuEx98",
        "colab": {
          "base_uri": "https://localhost:8080/"
        },
        "outputId": "97c508df-967d-489b-eb0f-8c8fb7f9cbae"
      },
      "source": [
        "# fit the model\n",
        "# Run the cell. It will take some time to execute\n",
        "r = model.fit_generator(\n",
        "  training_set,\n",
        "  validation_data=test_set,\n",
        "  epochs=50,\n",
        "  steps_per_epoch=len(training_set),\n",
        "  validation_steps=len(test_set)\n",
        ")"
      ],
      "execution_count": 21,
      "outputs": [
        {
          "output_type": "stream",
          "text": [
            "/usr/local/lib/python3.6/dist-packages/tensorflow/python/keras/engine/training.py:1844: UserWarning: `Model.fit_generator` is deprecated and will be removed in a future version. Please use `Model.fit`, which supports generators.\n",
            "  warnings.warn('`Model.fit_generator` is deprecated and '\n"
          ],
          "name": "stderr"
        },
        {
          "output_type": "stream",
          "text": [
            "Epoch 1/50\n",
            "250/250 [==============================] - 4388s 18s/step - loss: 0.4757 - accuracy: 0.8011 - val_loss: 0.1968 - val_accuracy: 0.9200\n",
            "Epoch 2/50\n",
            "250/250 [==============================] - 116s 465ms/step - loss: 0.2248 - accuracy: 0.9068 - val_loss: 0.2066 - val_accuracy: 0.9205\n",
            "Epoch 3/50\n",
            "250/250 [==============================] - 115s 462ms/step - loss: 0.1715 - accuracy: 0.9330 - val_loss: 0.2763 - val_accuracy: 0.9005\n",
            "Epoch 4/50\n",
            "250/250 [==============================] - 115s 461ms/step - loss: 0.1622 - accuracy: 0.9358 - val_loss: 0.2524 - val_accuracy: 0.9080\n",
            "Epoch 5/50\n",
            "250/250 [==============================] - 116s 462ms/step - loss: 0.1444 - accuracy: 0.9425 - val_loss: 0.2109 - val_accuracy: 0.9285\n",
            "Epoch 6/50\n",
            "250/250 [==============================] - 115s 461ms/step - loss: 0.1345 - accuracy: 0.9473 - val_loss: 0.2686 - val_accuracy: 0.9090\n",
            "Epoch 7/50\n",
            "250/250 [==============================] - 115s 460ms/step - loss: 0.1417 - accuracy: 0.9465 - val_loss: 0.3279 - val_accuracy: 0.9025\n",
            "Epoch 8/50\n",
            "250/250 [==============================] - 116s 463ms/step - loss: 0.1315 - accuracy: 0.9509 - val_loss: 0.2165 - val_accuracy: 0.9325\n",
            "Epoch 9/50\n",
            "250/250 [==============================] - 115s 461ms/step - loss: 0.1077 - accuracy: 0.9553 - val_loss: 0.2299 - val_accuracy: 0.9340\n",
            "Epoch 10/50\n",
            "250/250 [==============================] - 115s 461ms/step - loss: 0.1629 - accuracy: 0.9407 - val_loss: 0.2373 - val_accuracy: 0.9315\n",
            "Epoch 11/50\n",
            "250/250 [==============================] - 115s 461ms/step - loss: 0.0868 - accuracy: 0.9660 - val_loss: 0.3085 - val_accuracy: 0.9095\n",
            "Epoch 12/50\n",
            "250/250 [==============================] - 115s 460ms/step - loss: 0.1177 - accuracy: 0.9544 - val_loss: 0.2331 - val_accuracy: 0.9330\n",
            "Epoch 13/50\n",
            "250/250 [==============================] - 115s 461ms/step - loss: 0.0944 - accuracy: 0.9621 - val_loss: 0.2421 - val_accuracy: 0.9335\n",
            "Epoch 14/50\n",
            "250/250 [==============================] - 115s 460ms/step - loss: 0.0774 - accuracy: 0.9690 - val_loss: 0.2488 - val_accuracy: 0.9270\n",
            "Epoch 15/50\n",
            "250/250 [==============================] - 115s 460ms/step - loss: 0.0919 - accuracy: 0.9626 - val_loss: 0.4989 - val_accuracy: 0.8850\n",
            "Epoch 16/50\n",
            "250/250 [==============================] - 116s 463ms/step - loss: 0.1144 - accuracy: 0.9559 - val_loss: 0.2855 - val_accuracy: 0.9280\n",
            "Epoch 17/50\n",
            "250/250 [==============================] - 115s 461ms/step - loss: 0.1008 - accuracy: 0.9607 - val_loss: 0.4312 - val_accuracy: 0.8965\n",
            "Epoch 18/50\n",
            "250/250 [==============================] - 116s 464ms/step - loss: 0.0831 - accuracy: 0.9680 - val_loss: 0.3445 - val_accuracy: 0.9185\n",
            "Epoch 19/50\n",
            "250/250 [==============================] - 116s 463ms/step - loss: 0.0865 - accuracy: 0.9683 - val_loss: 0.3701 - val_accuracy: 0.9115\n",
            "Epoch 20/50\n",
            "250/250 [==============================] - 116s 462ms/step - loss: 0.0879 - accuracy: 0.9701 - val_loss: 0.3000 - val_accuracy: 0.9220\n",
            "Epoch 21/50\n",
            "250/250 [==============================] - 116s 462ms/step - loss: 0.0714 - accuracy: 0.9727 - val_loss: 0.4090 - val_accuracy: 0.9125\n",
            "Epoch 22/50\n",
            "250/250 [==============================] - 115s 461ms/step - loss: 0.0696 - accuracy: 0.9745 - val_loss: 0.3095 - val_accuracy: 0.9285\n",
            "Epoch 23/50\n",
            "250/250 [==============================] - 115s 461ms/step - loss: 0.0694 - accuracy: 0.9725 - val_loss: 0.3013 - val_accuracy: 0.9335\n",
            "Epoch 24/50\n",
            "250/250 [==============================] - 116s 462ms/step - loss: 0.0633 - accuracy: 0.9766 - val_loss: 0.3066 - val_accuracy: 0.9335\n",
            "Epoch 25/50\n",
            "250/250 [==============================] - 115s 461ms/step - loss: 0.0524 - accuracy: 0.9796 - val_loss: 0.3484 - val_accuracy: 0.9215\n",
            "Epoch 26/50\n",
            "250/250 [==============================] - 115s 461ms/step - loss: 0.0588 - accuracy: 0.9788 - val_loss: 0.3144 - val_accuracy: 0.9315\n",
            "Epoch 27/50\n",
            "250/250 [==============================] - 116s 463ms/step - loss: 0.0736 - accuracy: 0.9754 - val_loss: 0.5097 - val_accuracy: 0.9000\n",
            "Epoch 28/50\n",
            "250/250 [==============================] - 116s 462ms/step - loss: 0.0880 - accuracy: 0.9694 - val_loss: 0.3292 - val_accuracy: 0.9285\n",
            "Epoch 29/50\n",
            "250/250 [==============================] - 116s 463ms/step - loss: 0.1127 - accuracy: 0.9626 - val_loss: 0.3387 - val_accuracy: 0.9295\n",
            "Epoch 30/50\n",
            "250/250 [==============================] - 116s 462ms/step - loss: 0.0560 - accuracy: 0.9812 - val_loss: 0.3177 - val_accuracy: 0.9340\n",
            "Epoch 31/50\n",
            "250/250 [==============================] - 117s 467ms/step - loss: 0.0691 - accuracy: 0.9747 - val_loss: 0.3804 - val_accuracy: 0.9180\n",
            "Epoch 32/50\n",
            "250/250 [==============================] - 117s 468ms/step - loss: 0.0719 - accuracy: 0.9730 - val_loss: 0.3370 - val_accuracy: 0.9270\n",
            "Epoch 33/50\n",
            "250/250 [==============================] - 117s 468ms/step - loss: 0.0559 - accuracy: 0.9780 - val_loss: 0.3324 - val_accuracy: 0.9315\n",
            "Epoch 34/50\n",
            "250/250 [==============================] - 116s 464ms/step - loss: 0.0527 - accuracy: 0.9789 - val_loss: 0.3704 - val_accuracy: 0.9270\n",
            "Epoch 35/50\n",
            "250/250 [==============================] - 116s 465ms/step - loss: 0.0950 - accuracy: 0.9685 - val_loss: 0.3764 - val_accuracy: 0.9205\n",
            "Epoch 36/50\n",
            "250/250 [==============================] - 116s 463ms/step - loss: 0.0789 - accuracy: 0.9751 - val_loss: 0.3587 - val_accuracy: 0.9290\n",
            "Epoch 37/50\n",
            "250/250 [==============================] - 115s 461ms/step - loss: 0.0644 - accuracy: 0.9781 - val_loss: 0.4130 - val_accuracy: 0.9165\n",
            "Epoch 38/50\n",
            "250/250 [==============================] - 115s 461ms/step - loss: 0.0420 - accuracy: 0.9846 - val_loss: 0.3410 - val_accuracy: 0.9310\n",
            "Epoch 39/50\n",
            "250/250 [==============================] - 115s 461ms/step - loss: 0.0453 - accuracy: 0.9818 - val_loss: 0.3560 - val_accuracy: 0.9330\n",
            "Epoch 40/50\n",
            "250/250 [==============================] - 115s 461ms/step - loss: 0.0885 - accuracy: 0.9701 - val_loss: 0.5730 - val_accuracy: 0.9010\n",
            "Epoch 41/50\n",
            "250/250 [==============================] - 115s 462ms/step - loss: 0.0734 - accuracy: 0.9756 - val_loss: 0.5093 - val_accuracy: 0.9125\n",
            "Epoch 42/50\n",
            "250/250 [==============================] - 115s 460ms/step - loss: 0.0693 - accuracy: 0.9778 - val_loss: 0.3842 - val_accuracy: 0.9305\n",
            "Epoch 43/50\n",
            "250/250 [==============================] - 116s 462ms/step - loss: 0.0572 - accuracy: 0.9804 - val_loss: 0.3960 - val_accuracy: 0.9285\n",
            "Epoch 44/50\n",
            "250/250 [==============================] - 115s 460ms/step - loss: 0.0558 - accuracy: 0.9809 - val_loss: 0.3921 - val_accuracy: 0.9285\n",
            "Epoch 45/50\n",
            "250/250 [==============================] - 117s 467ms/step - loss: 0.0556 - accuracy: 0.9805 - val_loss: 0.3988 - val_accuracy: 0.9260\n",
            "Epoch 46/50\n",
            "250/250 [==============================] - 117s 469ms/step - loss: 0.0671 - accuracy: 0.9747 - val_loss: 0.3866 - val_accuracy: 0.9255\n",
            "Epoch 47/50\n",
            "250/250 [==============================] - 117s 468ms/step - loss: 0.0493 - accuracy: 0.9831 - val_loss: 0.3775 - val_accuracy: 0.9315\n",
            "Epoch 48/50\n",
            "250/250 [==============================] - 117s 468ms/step - loss: 0.0438 - accuracy: 0.9834 - val_loss: 0.3753 - val_accuracy: 0.9305\n",
            "Epoch 49/50\n",
            "250/250 [==============================] - 118s 471ms/step - loss: 0.0525 - accuracy: 0.9828 - val_loss: 0.3875 - val_accuracy: 0.9320\n",
            "Epoch 50/50\n",
            "250/250 [==============================] - 117s 468ms/step - loss: 0.0433 - accuracy: 0.9848 - val_loss: 0.3990 - val_accuracy: 0.9310\n"
          ],
          "name": "stdout"
        }
      ]
    },
    {
      "cell_type": "code",
      "metadata": {
        "id": "69M7kLh3Ex99"
      },
      "source": [
        "from tensorflow.keras.models import load_model\r\n",
        "\r\n",
        "model.save('/content/gdrive/MyDrive/Colab Notebooks/Cat Dog Classification Using VGG16/model_vgg16_catdog.h5')"
      ],
      "execution_count": 22,
      "outputs": []
    },
    {
      "cell_type": "code",
      "metadata": {
        "id": "W7kNw1ShMBlK"
      },
      "source": [
        "\r\n",
        "from tensorflow.keras.models import load_model\r\n",
        " \r\n",
        "# load model\r\n",
        "model = load_model('/content/gdrive/MyDrive/Colab Notebooks/Cat Dog Classification Using VGG16/model_vgg16_catdog.h5')"
      ],
      "execution_count": 23,
      "outputs": []
    },
    {
      "cell_type": "code",
      "metadata": {
        "colab": {
          "base_uri": "https://localhost:8080/"
        },
        "id": "q0dNgm9gMK6x",
        "outputId": "a94d9df5-a57e-46d6-8d82-24746702f295"
      },
      "source": [
        "model.summary()"
      ],
      "execution_count": 24,
      "outputs": [
        {
          "output_type": "stream",
          "text": [
            "Model: \"model\"\n",
            "_________________________________________________________________\n",
            "Layer (type)                 Output Shape              Param #   \n",
            "=================================================================\n",
            "input_1 (InputLayer)         [(None, 224, 224, 3)]     0         \n",
            "_________________________________________________________________\n",
            "block1_conv1 (Conv2D)        (None, 224, 224, 64)      1792      \n",
            "_________________________________________________________________\n",
            "block1_conv2 (Conv2D)        (None, 224, 224, 64)      36928     \n",
            "_________________________________________________________________\n",
            "block1_pool (MaxPooling2D)   (None, 112, 112, 64)      0         \n",
            "_________________________________________________________________\n",
            "block2_conv1 (Conv2D)        (None, 112, 112, 128)     73856     \n",
            "_________________________________________________________________\n",
            "block2_conv2 (Conv2D)        (None, 112, 112, 128)     147584    \n",
            "_________________________________________________________________\n",
            "block2_pool (MaxPooling2D)   (None, 56, 56, 128)       0         \n",
            "_________________________________________________________________\n",
            "block3_conv1 (Conv2D)        (None, 56, 56, 256)       295168    \n",
            "_________________________________________________________________\n",
            "block3_conv2 (Conv2D)        (None, 56, 56, 256)       590080    \n",
            "_________________________________________________________________\n",
            "block3_conv3 (Conv2D)        (None, 56, 56, 256)       590080    \n",
            "_________________________________________________________________\n",
            "block3_pool (MaxPooling2D)   (None, 28, 28, 256)       0         \n",
            "_________________________________________________________________\n",
            "block4_conv1 (Conv2D)        (None, 28, 28, 512)       1180160   \n",
            "_________________________________________________________________\n",
            "block4_conv2 (Conv2D)        (None, 28, 28, 512)       2359808   \n",
            "_________________________________________________________________\n",
            "block4_conv3 (Conv2D)        (None, 28, 28, 512)       2359808   \n",
            "_________________________________________________________________\n",
            "block4_pool (MaxPooling2D)   (None, 14, 14, 512)       0         \n",
            "_________________________________________________________________\n",
            "block5_conv1 (Conv2D)        (None, 14, 14, 512)       2359808   \n",
            "_________________________________________________________________\n",
            "block5_conv2 (Conv2D)        (None, 14, 14, 512)       2359808   \n",
            "_________________________________________________________________\n",
            "block5_conv3 (Conv2D)        (None, 14, 14, 512)       2359808   \n",
            "_________________________________________________________________\n",
            "block5_pool (MaxPooling2D)   (None, 7, 7, 512)         0         \n",
            "_________________________________________________________________\n",
            "flatten (Flatten)            (None, 25088)             0         \n",
            "_________________________________________________________________\n",
            "dense (Dense)                (None, 2)                 50178     \n",
            "=================================================================\n",
            "Total params: 14,764,866\n",
            "Trainable params: 50,178\n",
            "Non-trainable params: 14,714,688\n",
            "_________________________________________________________________\n"
          ],
          "name": "stdout"
        }
      ]
    },
    {
      "cell_type": "code",
      "metadata": {
        "id": "nyomzWXjEx99",
        "colab": {
          "base_uri": "https://localhost:8080/",
          "height": 530
        },
        "outputId": "23301b59-7820-4188-97b1-7f7cdf26e584"
      },
      "source": [
        "# plot the loss\n",
        "import matplotlib.pyplot as plt\n",
        "plt.plot(r.history['loss'], label='train loss')\n",
        "plt.plot(r.history['val_loss'], label='val loss')\n",
        "plt.legend()\n",
        "plt.show()\n",
        "plt.savefig('/content/gdrive/MyDrive/Colab Notebooks/Cat Dog Classification Using VGG16/LossVal_loss')\n",
        "\n",
        "# plot the accuracy\n",
        "plt.plot(r.history['accuracy'], label='train acc')\n",
        "plt.plot(r.history['val_accuracy'], label='val acc')\n",
        "plt.legend()\n",
        "plt.show()\n",
        "plt.savefig('/content/gdrive/MyDrive/Colab Notebooks/Cat Dog Classification Using VGG16/AccVal_acc')"
      ],
      "execution_count": 33,
      "outputs": [
        {
          "output_type": "display_data",
          "data": {
            "image/png": "[encoded data removed]",
            "text/plain": [
              "<Figure size 432x288 with 1 Axes>"
            ]
          },
          "metadata": {
            "tags": [],
            "needs_background": "light"
          }
        },
        {
          "output_type": "display_data",
          "data": {
            "image/png": "[encoded data removed]",
            "text/plain": [
              "<Figure size 432x288 with 1 Axes>"
            ]
          },
          "metadata": {
            "tags": [],
            "needs_background": "light"
          }
        },
        {
          "output_type": "display_data",
          "data": {
            "text/plain": [
              "<Figure size 432x288 with 0 Axes>"
            ]
          },
          "metadata": {
            "tags": []
          }
        }
      ]
    },
    {
      "cell_type": "code",
      "metadata": {
        "id": "2l1rNyfkEx9_"
      },
      "source": [
        "y_pred = model.predict(test_set)\n"
      ],
      "execution_count": 26,
      "outputs": []
    },
    {
      "cell_type": "code",
      "metadata": {
        "id": "d6M3JZnUEx9_",
        "colab": {
          "base_uri": "https://localhost:8080/"
        },
        "outputId": "736af816-65de-4557-ed7d-12f9658997fc"
      },
      "source": [
        "y_pred"
      ],
      "execution_count": 27,
      "outputs": [
        {
          "output_type": "execute_result",
          "data": {
            "text/plain": [
              "array([[9.9999905e-01, 9.8903774e-07],\n",
              "       [3.0539419e-13, 1.0000000e+00],\n",
              "       [9.9986231e-01, 1.3771805e-04],\n",
              "       ...,\n",
              "       [1.0000000e+00, 1.3695049e-15],\n",
              "       [9.9999976e-01, 2.7630537e-07],\n",
              "       [2.8156709e-18, 1.0000000e+00]], dtype=float32)"
            ]
          },
          "metadata": {
            "tags": []
          },
          "execution_count": 27
        }
      ]
    },
    {
      "cell_type": "code",
      "metadata": {
        "id": "BGNXQWaPEx9_"
      },
      "source": [
        "import numpy as np\n",
        "y_pred = np.argmax(y_pred, axis=1)"
      ],
      "execution_count": 28,
      "outputs": []
    },
    {
      "cell_type": "code",
      "metadata": {
        "id": "8u_pTp8KEx-A",
        "colab": {
          "base_uri": "https://localhost:8080/"
        },
        "outputId": "217ae1a8-c394-4a05-c765-019a7dfdc170"
      },
      "source": [
        "y_pred"
      ],
      "execution_count": 29,
      "outputs": [
        {
          "output_type": "execute_result",
          "data": {
            "text/plain": [
              "array([0, 1, 0, ..., 0, 0, 1])"
            ]
          },
          "metadata": {
            "tags": []
          },
          "execution_count": 29
        }
      ]
    },
    {
      "cell_type": "code",
      "metadata": {
        "id": "s9TLfPyaEx-B"
      },
      "source": [
        "from tensorflow.keras.models import load_model\n",
        "from tensorflow.keras.preprocessing import image"
      ],
      "execution_count": 30,
      "outputs": []
    },
    {
      "cell_type": "code",
      "metadata": {
        "id": "A0MAt2lEEx-B"
      },
      "source": [
        "#model=load_model('model_resnet50.h5')"
      ],
      "execution_count": 31,
      "outputs": []
    },
    {
      "cell_type": "code",
      "metadata": {
        "id": "qpQDXI9AEx-C",
        "colab": {
          "base_uri": "https://localhost:8080/",
          "height": 163
        },
        "outputId": "a89acc6b-d69c-4789-90e3-62e4589a2405"
      },
      "source": [
        "img_data"
      ],
      "execution_count": 32,
      "outputs": [
        {
          "output_type": "error",
          "ename": "NameError",
          "evalue": "ignored",
          "traceback": [
            "\u001b[0;31m---------------------------------------------------------------------------\u001b[0m",
            "\u001b[0;31mNameError\u001b[0m                                 Traceback (most recent call last)",
            "\u001b[0;32m<ipython-input-32-7b8301fa3f5c>\u001b[0m in \u001b[0;36m<module>\u001b[0;34m()\u001b[0m\n\u001b[0;32m----> 1\u001b[0;31m \u001b[0mimg_data\u001b[0m\u001b[0;34m\u001b[0m\u001b[0;34m\u001b[0m\u001b[0m\n\u001b[0m",
            "\u001b[0;31mNameError\u001b[0m: name 'img_data' is not defined"
          ]
        }
      ]
    },
    {
      "cell_type": "code",
      "metadata": {
        "id": "JfaYjMy5Ex-D"
      },
      "source": [
        "img=image.load_img('/content/gdrive/MyDrive/kaggle_dataset/dogs-cats-dataset/dataset/test_set/cats/cat.4003.jpg',target_size=(224,224))\n",
        "\n"
      ],
      "execution_count": 39,
      "outputs": []
    },
    {
      "cell_type": "code",
      "metadata": {
        "colab": {
          "base_uri": "https://localhost:8080/",
          "height": 241
        },
        "id": "_rnZEPYQTXfA",
        "outputId": "d47b5fba-411c-41ad-8153-b662e7211d14"
      },
      "source": [
        "img"
      ],
      "execution_count": 40,
      "outputs": [
        {
          "output_type": "execute_result",
          "data": {
            "image/png": "[encoded data removed]",
            "text/plain": [
              "<PIL.Image.Image image mode=RGB size=224x224 at 0x7F06D005ADD8>"
            ]
          },
          "metadata": {
            "tags": []
          },
          "execution_count": 40
        }
      ]
    },
    {
      "cell_type": "code",
      "metadata": {
        "id": "VpyWXyxAUCsB"
      },
      "source": [
        "test_image = image.img_to_array(x)\r\n",
        "test_image = test_image/255\r\n",
        "test_image = np.expand_dims(test_image,axis=0)\r\n",
        "result = model.predict(test_image)"
      ],
      "execution_count": 41,
      "outputs": []
    },
    {
      "cell_type": "code",
      "metadata": {
        "colab": {
          "base_uri": "https://localhost:8080/"
        },
        "id": "xi99zRnuUZUO",
        "outputId": "22f563d0-e1a7-4d94-f6ae-eac57536a64e"
      },
      "source": [
        "result"
      ],
      "execution_count": 42,
      "outputs": [
        {
          "output_type": "execute_result",
          "data": {
            "text/plain": [
              "array([[0.6670262 , 0.33297378]], dtype=float32)"
            ]
          },
          "metadata": {
            "tags": []
          },
          "execution_count": 42
        }
      ]
    },
    {
      "cell_type": "code",
      "metadata": {
        "id": "Fr-r8mbWEx-G"
      },
      "source": [
        "a=np.argmax(model.predict(test_image), axis=1)"
      ],
      "execution_count": 44,
      "outputs": []
    },
    {
      "cell_type": "code",
      "metadata": {
        "id": "YL81jwG6Ex-G",
        "colab": {
          "base_uri": "https://localhost:8080/"
        },
        "outputId": "205f3608-8703-4007-b59f-4aa1488e5de3"
      },
      "source": [
        "if a==0:\r\n",
        "  print(\"The image classified is Cat\")\r\n",
        "else:\r\n",
        "  print(\"The image classified is Dog\")"
      ],
      "execution_count": 45,
      "outputs": [
        {
          "output_type": "stream",
          "text": [
            "The image classified is Cat\n"
          ],
          "name": "stdout"
        }
      ]
    }
  ]
}